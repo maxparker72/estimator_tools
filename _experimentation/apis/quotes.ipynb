{
 "cells": [
  {
   "cell_type": "code",
   "execution_count": 1,
   "id": "5d853bcb-930f-40ee-ada3-cc18608f3ec5",
   "metadata": {},
   "outputs": [],
   "source": [
    "import requests"
   ]
  },
  {
   "cell_type": "code",
   "execution_count": 3,
   "id": "0ec02288-3aef-466a-b237-739e556d50cb",
   "metadata": {},
   "outputs": [],
   "source": [
    "key = 'UOMQ8CJOGDHFOFALZ580MMKD8XD6IQL9'"
   ]
  },
  {
   "cell_type": "code",
   "execution_count": null,
   "id": "993f9f8f-7573-486a-a27a-e63f56b8c7de",
   "metadata": {},
   "outputs": [],
   "source": [
    "que = {\n",
    "    'apikey' : key\n",
    "}\n",
    "\n",
    "body = {\n",
    "      \"symbol\": \"string\",\n",
    "      \"description\": \"string\",\n",
    "      \"closePrice\": 0,\n",
    "      \"netChange\": 0,\n",
    "      \"totalVolume\": 0,\n",
    "      \"tradeTimeInLong\": 0,\n",
    "      \"exchange\": \"string\",\n",
    "      \"exchangeName\": \"string\",\n",
    "      \"digits\": 0,\n",
    "      \"52WkHigh\": 0,\n",
    "      \"52WkLow\": 0,\n",
    "      \"nAV\": 0,\n",
    "      \"peRatio\": 0,\n",
    "      \"divAmount\": 0,\n",
    "      \"divYield\": 0,\n",
    "      \"divDate\": \"string\",\n",
    "      \"securityStatus\": \"string\"\n",
    "}\n",
    "r = requests.get('https://api.tdameritrade.com/v1/marketdata/APPL/quotes', params = que, data = body)"
   ]
  }
 ],
 "metadata": {
  "kernelspec": {
   "display_name": "Python 3 (ipykernel)",
   "language": "python",
   "name": "python3"
  },
  "language_info": {
   "codemirror_mode": {
    "name": "ipython",
    "version": 3
   },
   "file_extension": ".py",
   "mimetype": "text/x-python",
   "name": "python",
   "nbconvert_exporter": "python",
   "pygments_lexer": "ipython3",
   "version": "3.9.7"
  }
 },
 "nbformat": 4,
 "nbformat_minor": 5
}
