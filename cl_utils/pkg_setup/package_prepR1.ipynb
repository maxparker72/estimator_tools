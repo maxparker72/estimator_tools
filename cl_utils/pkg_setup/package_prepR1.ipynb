{
 "cells": [
  {
   "cell_type": "code",
   "execution_count": 1,
   "id": "053c1452",
   "metadata": {},
   "outputs": [],
   "source": [
    "#File Imports\n",
    "import os\n",
    "from datetime import date\n",
    "import zipfile\n",
    "from shutil import copytree\n",
    "import json\n",
    "from os.path import exists\n",
    "\n",
    "#GUI Imports For File Selection\n",
    "import tkinter\n",
    "from tkinter import filedialog\n",
    "from tkinter import Tk\n",
    "\n",
    "#Imports for Notion Updates\n",
    "import requests"
   ]
  },
  {
   "cell_type": "code",
   "execution_count": 2,
   "id": "37fc5dc2-a31a-4a77-bd36-a5fdaf98976b",
   "metadata": {},
   "outputs": [],
   "source": [
    "#Check Configuration\n",
    "#file_exists = exists('config.json') #does config file exist? \n",
    "file_exists = exists('config.json') #does config file exist? \n",
    "home = os.getcwd()\n",
    "if file_exists:\n",
    "    with open('config.json') as f:\n",
    "        #load properties\n",
    "        config = json.load(f) \n",
    "    #check if all paths exist before moving forward\n",
    "    for c in config: \n",
    "        #if path does not exist, print it and quit the program\n",
    "        if not (exists(config[c])):\n",
    "            print('{} : {} does\\'t exist'.format(c, config[c]))\n",
    "            quit()\n",
    "else:\n",
    "    #create an empty configuration file for easy user entry. \n",
    "    print('Populate the configuration file! with forward slashes!')\n",
    "    default_config = {\n",
    "        'local_pkgs':'',\n",
    "        'local_setup':'',\n",
    "        'private_pkgs':'',\n",
    "        'public_pkgs':'',\n",
    "        'local_downloads':'',\n",
    "        'private_ifc':'',\n",
    "        'public_ifc':'',\n",
    "        'private_pos':'',\n",
    "        'private_prd':'',\n",
    "        'private_dd':''\n",
    "    }\n",
    "    with open('config.json', 'w', encoding='utf8') as f:\n",
    "        json.dump(default_config, f, ensure_ascii = True)"
   ]
  },
  {
   "cell_type": "code",
   "execution_count": 3,
   "id": "a6d0c088",
   "metadata": {},
   "outputs": [
    {
     "name": "stdout",
     "output_type": "stream",
     "text": [
      "Prompt will ask for name, stage, description, and owner.\n",
      "Stages: ['IFC', 'POS', 'PRD', '30', '60', '90']\n",
      "PACKAGE INFO:\n",
      "--------------------\n",
      "pkg_name: OHIEX-R-B0001-CPK03-R2\n",
      "pkg_stage: 90\n",
      "pkg_desc: CSA_CLEAN_MEP\n",
      "pkg_date: 2021-11-12\n",
      "pkg_owner: MAX PARKER\n",
      "--------------------\n"
     ]
    }
   ],
   "source": [
    "#Alpha Prefix\n",
    "prefix = 'OHIEX-R-B0001'\n",
    "stages = ['IFC','POS','PRD','30','60','90'] #default stages\n",
    "print('Prompt will ask for name, stage, description, and owner.')\n",
    "pkg_name = '{}-{}'.format(prefix, input('Name: ').strip().upper())\n",
    "\n",
    "print('Stages: {}'.format(stages))\n",
    "pkg_stage = input('Stage: ').strip().upper()\n",
    "while(pkg_stage not in stages):\n",
    "    print('Stages: {}'.format(stages))\n",
    "    print('Pick Preset Stage!')\n",
    "    pkg_stage = input('Stage: ').strip().upper()\n",
    "\n",
    "pkg_desc = input('Description: ').strip().upper()\n",
    "pkg_owner = input('Owner: ').strip().upper()\n",
    "\n",
    "pkg_info = {\n",
    "    'pkg_name' : pkg_name,\n",
    "    'pkg_stage' : pkg_stage,\n",
    "    'pkg_desc' : pkg_desc,\n",
    "    'pkg_date' : date.today().isoformat(),\n",
    "    'pkg_owner' : pkg_owner\n",
    "}\n",
    "print('PACKAGE INFO:')\n",
    "print('-'*20)\n",
    "for key in pkg_info:\n",
    "    print('{}: {}'.format(key,pkg_info[key]))\n",
    "print('-'*20)"
   ]
  },
  {
   "cell_type": "code",
   "execution_count": 4,
   "id": "fac3e7a1-e0e3-4b4d-9c28-58c99bee80b7",
   "metadata": {},
   "outputs": [],
   "source": [
    "#Select original files\n",
    "application_window = tkinter.Tk()\n",
    "pkg_original = filedialog.askopenfilename(initialdir=config['local_downloads'], title=\"Please select package zip file:\")\n",
    "pkg_email = filedialog.askopenfilename(initialdir=config['local_downloads'], title=\"Please select package email file:\")\n",
    "application_window.destroy()"
   ]
  },
  {
   "cell_type": "code",
   "execution_count": 5,
   "id": "411df94e-e6f0-42dd-88ce-4784797d20a0",
   "metadata": {},
   "outputs": [],
   "source": [
    "is_zip = pkg_original[-4:]=='.zip'\n",
    "is_msg = pkg_email[-4:]=='.msg'"
   ]
  },
  {
   "cell_type": "code",
   "execution_count": 6,
   "id": "7594b3e7",
   "metadata": {},
   "outputs": [],
   "source": [
    "#prepare package \n",
    "#TODO logic to make sure this valid\n",
    "if not (is_zip and is_msg):\n",
    "    print('Incorrect files!')\n",
    "    quit()\n",
    "\n",
    "pkg_filename = '{}-{} - {}'.format(pkg_info['pkg_name'],pkg_info['pkg_stage'],pkg_info['pkg_date'])\n",
    "pkg_filename_bb = 'A - {} - {} - {} - {}'.format(pkg_info['pkg_name'],pkg_info['pkg_stage'],pkg_info['pkg_desc'],pkg_info['pkg_date'])\n",
    "\n",
    "#new folder with package name\n",
    "os.chdir(config['local_downloads'])\n",
    "os.mkdir(pkg_filename)\n",
    "\n",
    "#unzip contents to that folder\n",
    "with zipfile.ZipFile(pkg_original, 'r') as zip_ref:\n",
    "    zip_ref.extractall(pkg_filename)\n",
    "\n",
    "#move zip file folder with proper name\n",
    "os.rename(pkg_original, os.path.join(pkg_filename, pkg_filename+'.zip')) #move"
   ]
  },
  {
   "cell_type": "code",
   "execution_count": 7,
   "id": "1964d053",
   "metadata": {},
   "outputs": [],
   "source": [
    "#relative to downloads folder because thats where os is. \n",
    "#yes the last three are the same for clarity of flow and reading. \n",
    "if pkg_info['pkg_stage']==stages[0]:\n",
    "    copytree(pkg_filename, os.path.join(config['public_ifc'], pkg_filename))\n",
    "    os.rename(pkg_email, os.path.join(pkg_filename,pkg_filename+'.msg')) #move\n",
    "    copytree(pkg_filename, os.path.join(config['private_ifc'], pkg_filename))\n",
    "    # TODO: Create a folder in SBN and Bids for package name with standard folders.\n",
    "elif pkg_info['pkg_stage']==stages[1]:\n",
    "    os.rename(pkg_email, os.path.join(pkg_filename,pkg_filename+'.msg')) #move\n",
    "    copytree(pkg_filename, os.path.join(config['private_pos'], pkg_filename))\n",
    "elif pkg_info['pkg_stage']==stages[2]:\n",
    "    os.rename(pkg_email, os.path.join(pkg_filename,pkg_filename+'.msg')) #move\n",
    "    copytree(pkg_filename, os.path.join(config['private_prd'], pkg_filename))\n",
    "elif pkg_info['pkg_stage']==stages[3]:\n",
    "    os.rename(pkg_email, os.path.join(pkg_filename,pkg_filename+'.msg')) #move\n",
    "    copytree(pkg_filename, os.path.join(config['private_dd'], pkg_filename))\n",
    "elif pkg_info['pkg_stage']==stages[4]:\n",
    "    os.rename(pkg_email, os.path.join(pkg_filename,pkg_filename+'.msg')) #move\n",
    "    copytree(pkg_filename, os.path.join(config['private_dd'], pkg_filename))\n",
    "elif pkg_info['pkg_stage']==stages[5]:\n",
    "    os.rename(pkg_email, os.path.join(pkg_filename,pkg_filename+'.msg')) #move\n",
    "    copytree(pkg_filename, os.path.join(config['private_dd'], pkg_filename))\n",
    "else:\n",
    "    print('copy did not happen, please perform manually')"
   ]
  },
  {
   "cell_type": "code",
   "execution_count": 8,
   "id": "442a4ce1",
   "metadata": {},
   "outputs": [],
   "source": [
    "with open(os.path.join(home,'new_package.json')) as json_file:\n",
    "    data = json.load(json_file) #load templated file for new package item"
   ]
  },
  {
   "cell_type": "code",
   "execution_count": 9,
   "id": "9592b432",
   "metadata": {},
   "outputs": [],
   "source": [
    "data['properties']['Name']['title'][0]['text']['content'] = '{}-{}'.format(pkg_info['pkg_name'], pkg_info['pkg_stage'])"
   ]
  },
  {
   "cell_type": "code",
   "execution_count": 10,
   "id": "752eab82-3d6a-4daa-b630-bc5706e35209",
   "metadata": {},
   "outputs": [],
   "source": [
    "database_id = 'c674b9c21aa348a89a37201a65f42070'\n",
    "token = 'secret_NyIXoFGzUS5k681N96D2G1irDIF5hpADeNfMJNMUuFp'"
   ]
  },
  {
   "cell_type": "code",
   "execution_count": 11,
   "id": "bc226277-7043-44c8-ba1d-86f3e65456c8",
   "metadata": {},
   "outputs": [
    {
     "name": "stdout",
     "output_type": "stream",
     "text": [
      "Status of Notion post: 200\n"
     ]
    }
   ],
   "source": [
    "createurl ='https://api.notion.com/v1/pages'\n",
    "cheaders={\n",
    "    'Authorization' : 'Bearer ' + token,\n",
    "    'Content-Type': 'application/json',\n",
    "    'Notion-Version' : '2021-08-16'\n",
    "}\n",
    "r=requests.request('POST', createurl, headers = cheaders, data = json.dumps(data))\n",
    "print('Status of Notion post: {}'.format(r.status_code))"
   ]
  },
  {
   "cell_type": "code",
   "execution_count": 12,
   "id": "ffdb9807",
   "metadata": {},
   "outputs": [
    {
     "data": {
      "text/plain": [
       "['desktop.ini',\n",
       " 'OHIEX-R-B0001-CPK03-R1-IFC - 2021-11-02',\n",
       " 'revblock explain.pdf']"
      ]
     },
     "execution_count": 12,
     "metadata": {},
     "output_type": "execute_result"
    }
   ],
   "source": [
    "os.chdir(config['local_downloads'])\n",
    "os.listdir()"
   ]
  },
  {
   "cell_type": "code",
   "execution_count": 15,
   "id": "b90a955a",
   "metadata": {},
   "outputs": [
    {
     "ename": "FileNotFoundError",
     "evalue": "[WinError 2] The system cannot find the file specified: 'OHIEX-R-B0001-CPK03-R1-IFC - 2021-11-02'",
     "output_type": "error",
     "traceback": [
      "\u001b[1;31m---------------------------------------------------------------------------\u001b[0m",
      "\u001b[1;31mFileNotFoundError\u001b[0m                         Traceback (most recent call last)",
      "\u001b[1;32m~\\AppData\\Local\\Temp\\2/ipykernel_29296/4146219088.py\u001b[0m in \u001b[0;36m<module>\u001b[1;34m\u001b[0m\n\u001b[0;32m      1\u001b[0m \u001b[1;31m#preparing local version\u001b[0m\u001b[1;33m\u001b[0m\u001b[1;33m\u001b[0m\u001b[0m\n\u001b[1;32m----> 2\u001b[1;33m \u001b[0mos\u001b[0m\u001b[1;33m.\u001b[0m\u001b[0mchdir\u001b[0m\u001b[1;33m(\u001b[0m\u001b[0mpkg_filename\u001b[0m\u001b[1;33m)\u001b[0m\u001b[1;33m\u001b[0m\u001b[1;33m\u001b[0m\u001b[0m\n\u001b[0m\u001b[0;32m      3\u001b[0m \u001b[0mwrk_filename\u001b[0m \u001b[1;33m=\u001b[0m \u001b[1;34m'work-{}'\u001b[0m\u001b[1;33m.\u001b[0m\u001b[0mformat\u001b[0m\u001b[1;33m(\u001b[0m\u001b[0mdate\u001b[0m\u001b[1;33m.\u001b[0m\u001b[0mtoday\u001b[0m\u001b[1;33m(\u001b[0m\u001b[1;33m)\u001b[0m\u001b[1;33m.\u001b[0m\u001b[0misoformat\u001b[0m\u001b[1;33m(\u001b[0m\u001b[1;33m)\u001b[0m\u001b[1;33m)\u001b[0m\u001b[1;33m\u001b[0m\u001b[1;33m\u001b[0m\u001b[0m\n\u001b[0;32m      4\u001b[0m \u001b[0mos\u001b[0m\u001b[1;33m.\u001b[0m\u001b[0mmkdir\u001b[0m\u001b[1;33m(\u001b[0m\u001b[0mwrk_filename\u001b[0m\u001b[1;33m)\u001b[0m \u001b[1;31m#make work folder\u001b[0m\u001b[1;33m\u001b[0m\u001b[1;33m\u001b[0m\u001b[0m\n\u001b[0;32m      5\u001b[0m \u001b[0mos\u001b[0m\u001b[1;33m.\u001b[0m\u001b[0mchdir\u001b[0m\u001b[1;33m(\u001b[0m\u001b[0mwrk_filename\u001b[0m\u001b[1;33m)\u001b[0m\u001b[1;33m\u001b[0m\u001b[1;33m\u001b[0m\u001b[0m\n",
      "\u001b[1;31mFileNotFoundError\u001b[0m: [WinError 2] The system cannot find the file specified: 'OHIEX-R-B0001-CPK03-R1-IFC - 2021-11-02'"
     ]
    }
   ],
   "source": [
    "#preparing local version\n",
    "os.chdir(pkg_filename)\n",
    "wrk_filename = 'work-{}'.format(date.today().isoformat())\n",
    "os.mkdir(wrk_filename) #make work folder\n",
    "os.chdir(wrk_filename)\n",
    "with open(pkg_filename_bb+\".pdf\",'w') as bbname:\n",
    "    bbname.write('work folder created. filename is a reference for easy naming when saving pdf.')"
   ]
  },
  {
   "cell_type": "code",
   "execution_count": 13,
   "id": "f4035431-f20c-4ea2-92c4-bdcae6e08ea4",
   "metadata": {},
   "outputs": [
    {
     "ename": "PermissionError",
     "evalue": "[WinError 5] Access is denied: 'OHIEX-R-B0001-CPK03-R5-60-2021-10-15' -> 'C:/Users/maxpar/OneDrive - JEDunn/Documents/local_project/alpha/packages\\\\OHIEX-R-B0001-CPK03-R5-60-2021-10-15'",
     "output_type": "error",
     "traceback": [
      "\u001b[1;31m---------------------------------------------------------------------------\u001b[0m",
      "\u001b[1;31mPermissionError\u001b[0m                           Traceback (most recent call last)",
      "\u001b[1;32m~\\AppData\\Local\\Temp\\2/ipykernel_21092/3640978553.py\u001b[0m in \u001b[0;36m<module>\u001b[1;34m\u001b[0m\n\u001b[0;32m      1\u001b[0m \u001b[1;31m#move to documents\u001b[0m\u001b[1;33m\u001b[0m\u001b[1;33m\u001b[0m\u001b[0m\n\u001b[0;32m      2\u001b[0m \u001b[0mos\u001b[0m\u001b[1;33m.\u001b[0m\u001b[0mchdir\u001b[0m\u001b[1;33m(\u001b[0m\u001b[0mconfig\u001b[0m\u001b[1;33m[\u001b[0m\u001b[1;34m'local_downloads'\u001b[0m\u001b[1;33m]\u001b[0m\u001b[1;33m)\u001b[0m\u001b[1;33m\u001b[0m\u001b[1;33m\u001b[0m\u001b[0m\n\u001b[1;32m----> 3\u001b[1;33m \u001b[0mos\u001b[0m\u001b[1;33m.\u001b[0m\u001b[0mrename\u001b[0m\u001b[1;33m(\u001b[0m\u001b[0mpkg_filename\u001b[0m\u001b[1;33m,\u001b[0m\u001b[0mos\u001b[0m\u001b[1;33m.\u001b[0m\u001b[0mpath\u001b[0m\u001b[1;33m.\u001b[0m\u001b[0mjoin\u001b[0m\u001b[1;33m(\u001b[0m\u001b[0mconfig\u001b[0m\u001b[1;33m[\u001b[0m\u001b[1;34m'local_pkgs'\u001b[0m\u001b[1;33m]\u001b[0m\u001b[1;33m,\u001b[0m\u001b[0mpkg_filename\u001b[0m\u001b[1;33m)\u001b[0m\u001b[1;33m)\u001b[0m \u001b[1;31m#move\u001b[0m\u001b[1;33m\u001b[0m\u001b[1;33m\u001b[0m\u001b[0m\n\u001b[0m",
      "\u001b[1;31mPermissionError\u001b[0m: [WinError 5] Access is denied: 'OHIEX-R-B0001-CPK03-R5-60-2021-10-15' -> 'C:/Users/maxpar/OneDrive - JEDunn/Documents/local_project/alpha/packages\\\\OHIEX-R-B0001-CPK03-R5-60-2021-10-15'"
     ]
    }
   ],
   "source": [
    "#move to documents #PERMISSION DENIED ERROR\n",
    "os.chdir(config['local_downloads'])\n",
    "os.rename(pkg_filename,os.path.join(config['local_pkgs'],pkg_filename)) #move"
   ]
  },
  {
   "cell_type": "code",
   "execution_count": 15,
   "id": "bf45e7ab",
   "metadata": {},
   "outputs": [
    {
     "ename": "PermissionError",
     "evalue": "[Errno 13] Permission denied: 'C:/Users/maxpar/JEDunn/Project-21029900-Intel Project Alphabet - JE Dunn - Private/Preconstruction (Pre-Award)/Package Maintenance'",
     "output_type": "error",
     "traceback": [
      "\u001b[1;31m---------------------------------------------------------------------------\u001b[0m",
      "\u001b[1;31mPermissionError\u001b[0m                           Traceback (most recent call last)",
      "\u001b[1;32m~\\AppData\\Local\\Temp\\2/ipykernel_23444/2787308422.py\u001b[0m in \u001b[0;36m<module>\u001b[1;34m\u001b[0m\n\u001b[0;32m      1\u001b[0m \u001b[1;31m#Add to ownership file. #add entry logic here for dates, stages, etc. Change status when updated to maintained, not posted.\u001b[0m\u001b[1;33m\u001b[0m\u001b[1;33m\u001b[0m\u001b[0m\n\u001b[0;32m      2\u001b[0m \u001b[1;32mimport\u001b[0m \u001b[0mpandas\u001b[0m \u001b[1;32mas\u001b[0m \u001b[0mpd\u001b[0m\u001b[1;33m\u001b[0m\u001b[1;33m\u001b[0m\u001b[0m\n\u001b[1;32m----> 3\u001b[1;33m \u001b[0mowners\u001b[0m \u001b[1;33m=\u001b[0m \u001b[0mpd\u001b[0m\u001b[1;33m.\u001b[0m\u001b[0mread_excel\u001b[0m\u001b[1;33m(\u001b[0m\u001b[0mconfig\u001b[0m\u001b[1;33m[\u001b[0m\u001b[1;34m'owner_doc'\u001b[0m\u001b[1;33m]\u001b[0m\u001b[1;33m,\u001b[0m \u001b[0mindex_col\u001b[0m\u001b[1;33m=\u001b[0m\u001b[1;32mNone\u001b[0m\u001b[1;33m)\u001b[0m\u001b[1;33m\u001b[0m\u001b[1;33m\u001b[0m\u001b[0m\n\u001b[0m",
      "\u001b[1;32m~\\AppData\\Local\\Packages\\PythonSoftwareFoundation.Python.3.9_qbz5n2kfra8p0\\LocalCache\\local-packages\\Python39\\site-packages\\pandas\\util\\_decorators.py\u001b[0m in \u001b[0;36mwrapper\u001b[1;34m(*args, **kwargs)\u001b[0m\n\u001b[0;32m    309\u001b[0m                     \u001b[0mstacklevel\u001b[0m\u001b[1;33m=\u001b[0m\u001b[0mstacklevel\u001b[0m\u001b[1;33m,\u001b[0m\u001b[1;33m\u001b[0m\u001b[1;33m\u001b[0m\u001b[0m\n\u001b[0;32m    310\u001b[0m                 )\n\u001b[1;32m--> 311\u001b[1;33m             \u001b[1;32mreturn\u001b[0m \u001b[0mfunc\u001b[0m\u001b[1;33m(\u001b[0m\u001b[1;33m*\u001b[0m\u001b[0margs\u001b[0m\u001b[1;33m,\u001b[0m \u001b[1;33m**\u001b[0m\u001b[0mkwargs\u001b[0m\u001b[1;33m)\u001b[0m\u001b[1;33m\u001b[0m\u001b[1;33m\u001b[0m\u001b[0m\n\u001b[0m\u001b[0;32m    312\u001b[0m \u001b[1;33m\u001b[0m\u001b[0m\n\u001b[0;32m    313\u001b[0m         \u001b[1;32mreturn\u001b[0m \u001b[0mwrapper\u001b[0m\u001b[1;33m\u001b[0m\u001b[1;33m\u001b[0m\u001b[0m\n",
      "\u001b[1;32m~\\AppData\\Local\\Packages\\PythonSoftwareFoundation.Python.3.9_qbz5n2kfra8p0\\LocalCache\\local-packages\\Python39\\site-packages\\pandas\\io\\excel\\_base.py\u001b[0m in \u001b[0;36mread_excel\u001b[1;34m(io, sheet_name, header, names, index_col, usecols, squeeze, dtype, engine, converters, true_values, false_values, skiprows, nrows, na_values, keep_default_na, na_filter, verbose, parse_dates, date_parser, thousands, comment, skipfooter, convert_float, mangle_dupe_cols, storage_options)\u001b[0m\n\u001b[0;32m    362\u001b[0m     \u001b[1;32mif\u001b[0m \u001b[1;32mnot\u001b[0m \u001b[0misinstance\u001b[0m\u001b[1;33m(\u001b[0m\u001b[0mio\u001b[0m\u001b[1;33m,\u001b[0m \u001b[0mExcelFile\u001b[0m\u001b[1;33m)\u001b[0m\u001b[1;33m:\u001b[0m\u001b[1;33m\u001b[0m\u001b[1;33m\u001b[0m\u001b[0m\n\u001b[0;32m    363\u001b[0m         \u001b[0mshould_close\u001b[0m \u001b[1;33m=\u001b[0m \u001b[1;32mTrue\u001b[0m\u001b[1;33m\u001b[0m\u001b[1;33m\u001b[0m\u001b[0m\n\u001b[1;32m--> 364\u001b[1;33m         \u001b[0mio\u001b[0m \u001b[1;33m=\u001b[0m \u001b[0mExcelFile\u001b[0m\u001b[1;33m(\u001b[0m\u001b[0mio\u001b[0m\u001b[1;33m,\u001b[0m \u001b[0mstorage_options\u001b[0m\u001b[1;33m=\u001b[0m\u001b[0mstorage_options\u001b[0m\u001b[1;33m,\u001b[0m \u001b[0mengine\u001b[0m\u001b[1;33m=\u001b[0m\u001b[0mengine\u001b[0m\u001b[1;33m)\u001b[0m\u001b[1;33m\u001b[0m\u001b[1;33m\u001b[0m\u001b[0m\n\u001b[0m\u001b[0;32m    365\u001b[0m     \u001b[1;32melif\u001b[0m \u001b[0mengine\u001b[0m \u001b[1;32mand\u001b[0m \u001b[0mengine\u001b[0m \u001b[1;33m!=\u001b[0m \u001b[0mio\u001b[0m\u001b[1;33m.\u001b[0m\u001b[0mengine\u001b[0m\u001b[1;33m:\u001b[0m\u001b[1;33m\u001b[0m\u001b[1;33m\u001b[0m\u001b[0m\n\u001b[0;32m    366\u001b[0m         raise ValueError(\n",
      "\u001b[1;32m~\\AppData\\Local\\Packages\\PythonSoftwareFoundation.Python.3.9_qbz5n2kfra8p0\\LocalCache\\local-packages\\Python39\\site-packages\\pandas\\io\\excel\\_base.py\u001b[0m in \u001b[0;36m__init__\u001b[1;34m(self, path_or_buffer, engine, storage_options)\u001b[0m\n\u001b[0;32m   1189\u001b[0m                 \u001b[0mext\u001b[0m \u001b[1;33m=\u001b[0m \u001b[1;34m\"xls\"\u001b[0m\u001b[1;33m\u001b[0m\u001b[1;33m\u001b[0m\u001b[0m\n\u001b[0;32m   1190\u001b[0m             \u001b[1;32melse\u001b[0m\u001b[1;33m:\u001b[0m\u001b[1;33m\u001b[0m\u001b[1;33m\u001b[0m\u001b[0m\n\u001b[1;32m-> 1191\u001b[1;33m                 ext = inspect_excel_format(\n\u001b[0m\u001b[0;32m   1192\u001b[0m                     \u001b[0mcontent_or_path\u001b[0m\u001b[1;33m=\u001b[0m\u001b[0mpath_or_buffer\u001b[0m\u001b[1;33m,\u001b[0m \u001b[0mstorage_options\u001b[0m\u001b[1;33m=\u001b[0m\u001b[0mstorage_options\u001b[0m\u001b[1;33m\u001b[0m\u001b[1;33m\u001b[0m\u001b[0m\n\u001b[0;32m   1193\u001b[0m                 )\n",
      "\u001b[1;32m~\\AppData\\Local\\Packages\\PythonSoftwareFoundation.Python.3.9_qbz5n2kfra8p0\\LocalCache\\local-packages\\Python39\\site-packages\\pandas\\io\\excel\\_base.py\u001b[0m in \u001b[0;36minspect_excel_format\u001b[1;34m(content_or_path, storage_options)\u001b[0m\n\u001b[0;32m   1068\u001b[0m         \u001b[0mcontent_or_path\u001b[0m \u001b[1;33m=\u001b[0m \u001b[0mBytesIO\u001b[0m\u001b[1;33m(\u001b[0m\u001b[0mcontent_or_path\u001b[0m\u001b[1;33m)\u001b[0m\u001b[1;33m\u001b[0m\u001b[1;33m\u001b[0m\u001b[0m\n\u001b[0;32m   1069\u001b[0m \u001b[1;33m\u001b[0m\u001b[0m\n\u001b[1;32m-> 1070\u001b[1;33m     with get_handle(\n\u001b[0m\u001b[0;32m   1071\u001b[0m         \u001b[0mcontent_or_path\u001b[0m\u001b[1;33m,\u001b[0m \u001b[1;34m\"rb\"\u001b[0m\u001b[1;33m,\u001b[0m \u001b[0mstorage_options\u001b[0m\u001b[1;33m=\u001b[0m\u001b[0mstorage_options\u001b[0m\u001b[1;33m,\u001b[0m \u001b[0mis_text\u001b[0m\u001b[1;33m=\u001b[0m\u001b[1;32mFalse\u001b[0m\u001b[1;33m\u001b[0m\u001b[1;33m\u001b[0m\u001b[0m\n\u001b[0;32m   1072\u001b[0m     ) as handle:\n",
      "\u001b[1;32m~\\AppData\\Local\\Packages\\PythonSoftwareFoundation.Python.3.9_qbz5n2kfra8p0\\LocalCache\\local-packages\\Python39\\site-packages\\pandas\\io\\common.py\u001b[0m in \u001b[0;36mget_handle\u001b[1;34m(path_or_buf, mode, encoding, compression, memory_map, is_text, errors, storage_options)\u001b[0m\n\u001b[0;32m    709\u001b[0m         \u001b[1;32melse\u001b[0m\u001b[1;33m:\u001b[0m\u001b[1;33m\u001b[0m\u001b[1;33m\u001b[0m\u001b[0m\n\u001b[0;32m    710\u001b[0m             \u001b[1;31m# Binary mode\u001b[0m\u001b[1;33m\u001b[0m\u001b[1;33m\u001b[0m\u001b[0m\n\u001b[1;32m--> 711\u001b[1;33m             \u001b[0mhandle\u001b[0m \u001b[1;33m=\u001b[0m \u001b[0mopen\u001b[0m\u001b[1;33m(\u001b[0m\u001b[0mhandle\u001b[0m\u001b[1;33m,\u001b[0m \u001b[0mioargs\u001b[0m\u001b[1;33m.\u001b[0m\u001b[0mmode\u001b[0m\u001b[1;33m)\u001b[0m\u001b[1;33m\u001b[0m\u001b[1;33m\u001b[0m\u001b[0m\n\u001b[0m\u001b[0;32m    712\u001b[0m         \u001b[0mhandles\u001b[0m\u001b[1;33m.\u001b[0m\u001b[0mappend\u001b[0m\u001b[1;33m(\u001b[0m\u001b[0mhandle\u001b[0m\u001b[1;33m)\u001b[0m\u001b[1;33m\u001b[0m\u001b[1;33m\u001b[0m\u001b[0m\n\u001b[0;32m    713\u001b[0m \u001b[1;33m\u001b[0m\u001b[0m\n",
      "\u001b[1;31mPermissionError\u001b[0m: [Errno 13] Permission denied: 'C:/Users/maxpar/JEDunn/Project-21029900-Intel Project Alphabet - JE Dunn - Private/Preconstruction (Pre-Award)/Package Maintenance'"
     ]
    }
   ],
   "source": [
    "#Add to ownership file. #add entry logic here for dates, stages, etc. Change status when updated to maintained, not posted. \n",
    "owners = pd.read_excel(config['owner_doc'], index_col=None)"
   ]
  },
  {
   "cell_type": "code",
   "execution_count": null,
   "id": "56f6b879-b8f3-480e-91c9-232b3241f993",
   "metadata": {},
   "outputs": [],
   "source": [
    "owners.append([[pkg_info['pkg_name'],pkg_info['pkg_stage'],pkg_info['pkg_owner'],None,None,pkg_info['pkg_date'],'AUTO UPDATE BY BYTE OF PY BOT :)']])"
   ]
  },
  {
   "cell_type": "code",
   "execution_count": null,
   "id": "3a30a472-7020-4656-b515-435358e88036",
   "metadata": {},
   "outputs": [],
   "source": []
  }
 ],
 "metadata": {
  "interpreter": {
   "hash": "ed9724a0a27c9c83694e0d6d33ad1ad0dd7be73b0f2ba13de4c68b8df5ecf717"
  },
  "kernelspec": {
   "display_name": "Python 3.9.7 64-bit ('.construction_venv': venv)",
   "name": "python3"
  },
  "language_info": {
   "codemirror_mode": {
    "name": "ipython",
    "version": 3
   },
   "file_extension": ".py",
   "mimetype": "text/x-python",
   "name": "python",
   "nbconvert_exporter": "python",
   "pygments_lexer": "ipython3",
   "version": "3.9.8"
  }
 },
 "nbformat": 4,
 "nbformat_minor": 5
}
